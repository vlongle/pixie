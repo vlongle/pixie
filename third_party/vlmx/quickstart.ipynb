{
 "cells": [
  {
   "cell_type": "code",
   "execution_count": 1,
   "metadata": {},
   "outputs": [
    {
     "name": "stderr",
     "output_type": "stream",
     "text": [
      "/home/vlongle/miniconda3/envs/vlmx/lib/python3.9/site-packages/tqdm/auto.py:21: TqdmWarning: IProgress not found. Please update jupyter and ipywidgets. See https://ipywidgets.readthedocs.io/en/stable/user_install.html\n",
      "  from .autonotebook import tqdm as notebook_tqdm\n"
     ]
    }
   ],
   "source": [
    "from vlmx.agent import Agent, AgentConfig\n",
    "from dotenv import load_dotenv\n",
    "from vlmx.context_agent import ContextAwareAgent\n",
    "import os\n",
    "import tempfile\n",
    "from vlmx.tool_use_agent import ToolUseAgent, TOOL_INSTRUCTION\n",
    "from vlmx.artifact import ArtifactDisplayHandler, artifacts_to_prompt_parts, ArtifactCollector\n",
    "from typing import Dict, Any, Optional, List, Union\n",
    "import sys\n",
    "from io import StringIO\n",
    "from vlmx.utils import string_to_file, join_path, extract_code_from_string\n",
    "from contextlib import contextmanager\n",
    "from io import StringIO\n",
    "from PIL import Image\n",
    "from pathlib import Path"
   ]
  },
  {
   "cell_type": "code",
   "execution_count": 2,
   "metadata": {},
   "outputs": [],
   "source": [
    "## we have our API key stored in a .env file\n",
    "load_dotenv()\n",
    "API_KEY = os.environ.get('API_KEY')"
   ]
  },
  {
   "cell_type": "markdown",
   "metadata": {},
   "source": [
    "## Basic"
   ]
  },
  {
   "cell_type": "code",
   "execution_count": 3,
   "metadata": {},
   "outputs": [],
   "source": [
    "SYSTEM_INSTRUCTION = \"Do whatever I say correctly.\"\n",
    "\n",
    "class HelperAgent(Agent):\n",
    "    OUT_RESULT_PATH = \"test.txt\"\n",
    "\n",
    "    def _make_system_instruction(self):\n",
    "        return SYSTEM_INSTRUCTION\n",
    "\n",
    "    def _make_prompt_parts(self, question: str):\n",
    "        return question\n",
    "\n",
    "    def parse_response(self, response):\n",
    "        print(\"response:\", response.text)\n",
    "        ## string_to_file(response.txt, \"path.txt\")"
   ]
  },
  {
   "cell_type": "code",
   "execution_count": 4,
   "metadata": {},
   "outputs": [
    {
     "name": "stdout",
     "output_type": "stream",
     "text": [
      "response: 4\n"
     ]
    }
   ],
   "source": [
    "cfg = AgentConfig(model_name=\"gemini-2.0-flash-thinking-exp-01-21\",\n",
    "                out_dir=f\"test_results\",\n",
    "                api_key=API_KEY)\n",
    "agent = HelperAgent(cfg)\n",
    "agent.generate_prediction(\"What's 2+2?\");"
   ]
  },
  {
   "cell_type": "markdown",
   "metadata": {},
   "source": [
    "## Cursor-style File Context"
   ]
  },
  {
   "cell_type": "markdown",
   "metadata": {},
   "source": [
    "You can use the `@` symbol to reference files in the current directory, and we will automatically include the file in the prompt, and manage duplicated files ect."
   ]
  },
  {
   "cell_type": "code",
   "execution_count": 5,
   "metadata": {},
   "outputs": [],
   "source": [
    "class FileContextAgent(ContextAwareAgent):\n",
    "    OUT_RESULT_PATH = \"out.txt\"\n",
    "    \n",
    "    def _make_system_instruction(self) -> str:\n",
    "        return f\"\"\"Answer the question correctly.\"\"\"\n",
    "\n",
    "    def parse_response(self, response, **kwargs):\n",
    "        print(\"response:\", response.text)"
   ]
  },
  {
   "cell_type": "code",
   "execution_count": 6,
   "metadata": {},
   "outputs": [],
   "source": [
    "def create_temp_file(content):\n",
    "    with tempfile.NamedTemporaryFile(delete=False) as temp_file:\n",
    "        temp_file.write(content.encode('utf-8'))\n",
    "        return temp_file.name"
   ]
  },
  {
   "cell_type": "code",
   "execution_count": 7,
   "metadata": {},
   "outputs": [
    {
     "name": "stdout",
     "output_type": "stream",
     "text": [
      "a_file: /tmp/tmpkoqb_rj3\n",
      "b_file: /tmp/tmpbgthoy9r\n"
     ]
    }
   ],
   "source": [
    "a_content = \"x=10\"\n",
    "b_content = \"x=9**2\"\n",
    "\n",
    "a_file = create_temp_file(a_content)\n",
    "b_file = create_temp_file(b_content)\n",
    "\n",
    "print(\"a_file:\", a_file)\n",
    "print(\"b_file:\", b_file)"
   ]
  },
  {
   "cell_type": "code",
   "execution_count": 8,
   "metadata": {},
   "outputs": [
    {
     "name": "stdout",
     "output_type": "stream",
     "text": [
      "response: The difference between [tmpkoqb_rj3] and [tmpbgthoy9r] is in the value assigned to the variable `x`.\n",
      "\n",
      "* **[tmpkoqb_rj3]** assigns the value `10` to the variable `x`.\n",
      "* **[tmpbgthoy9r]** assigns the value `81` (which is the result of `9**2`, or 9 squared) to the variable `x`.\n",
      "\n",
      "In essence, both files define a variable `x`, but they initialize it with different numerical values.  The first file uses a literal value, while the second file uses an exponentiation operation to calculate the value.\n"
     ]
    }
   ],
   "source": [
    "file_agent = FileContextAgent(AgentConfig(model_name=\"gemini-2.0-flash-thinking-exp-01-21\",\n",
    "            out_dir=f\"test_intelligent_results\",\n",
    "            api_key=API_KEY))\n",
    "\n",
    "prompt_parts = [\n",
    "    f\"What's the difference between @{a_file} and @{b_file} ?\",\n",
    "]\n",
    "file_agent.generate_prediction(\n",
    "    prompt_parts,\n",
    "    overwrite=True,\n",
    ");"
   ]
  },
  {
   "cell_type": "markdown",
   "metadata": {},
   "source": [
    "## Tool Usage and artifacts"
   ]
  },
  {
   "cell_type": "markdown",
   "metadata": {},
   "source": [
    "We only equip the VLM with ability to `save_logs` and `save_images` to a workspace. This allows the VLM to save intermediate results and later retrieve them results for iterative refinement. Here's a basic example."
   ]
  },
  {
   "cell_type": "code",
   "execution_count": 9,
   "metadata": {},
   "outputs": [],
   "source": [
    "class ToolAgent(ToolUseAgent):\n",
    "    OUT_RESULT_PATH = \"tool_use_result.txt\"\n",
    "    PYTHON_FILE_NAME = \"tool_use_agent.py\"\n",
    "    \n",
    "    def __init__(self, config, working_dir: str = \"./vlm_workspace\"):\n",
    "        super().__init__(config, working_dir)\n",
    "        self.artifact_handler = ArtifactDisplayHandler()\n",
    "        self.additional_context = None\n",
    "        self.previous_code = None  # Track previous code for diff generation\n",
    "\n",
    "    def _make_system_instruction(self) -> str:\n",
    "        return super().add_file_context(\"You're an helpful assistant.\"+ TOOL_INSTRUCTION) \n",
    "\n",
    "    def add_context(self, context: Dict[str, Any]):\n",
    "        \"\"\"Add context from previous iterations to help improve the solution\"\"\"\n",
    "        self.additional_context = context\n",
    "        # Extract previous code from context if available\n",
    "        if context and 'code' in context:\n",
    "            self.previous_code = context['code']\n",
    "\n",
    "    def _make_prompt_parts(self, task: str) -> List[Union[str, Image.Image]]:\n",
    "        \"\"\"Generate prompt parts including both text and images/videos\"\"\"\n",
    "        prompt_parts = [f\"task: {task}\"]\n",
    "\n",
    "        \n",
    "        # Add context from previous iterations if available\n",
    "        if self.additional_context:\n",
    "            prompt_parts.append(\"\\nPrevious attempt results:\")\n",
    "            prompt_parts.extend(artifacts_to_prompt_parts(self.additional_context))\n",
    "            prompt_parts.append(\"\\nPlease analyze the previous attempt and improve the solution. \")\n",
    "        \n",
    "        return super()._make_prompt_parts(prompt_parts)\n",
    "\n",
    "\n",
    "    @staticmethod\n",
    "    @contextmanager\n",
    "    def capture_output():\n",
    "        \"\"\"Capture stdout while still allowing it to print to console\"\"\"\n",
    "        stdout = StringIO()\n",
    "        original_stdout = sys.stdout\n",
    "        class TeePrint:\n",
    "            def write(self, data):\n",
    "                stdout.write(data)\n",
    "                original_stdout.write(data)\n",
    "            def flush(self):\n",
    "                stdout.flush()\n",
    "                original_stdout.flush()\n",
    "        \n",
    "        sys.stdout = TeePrint()\n",
    "        try:\n",
    "            yield stdout\n",
    "        finally:\n",
    "            sys.stdout = original_stdout\n",
    "\n",
    "    def parse_response(self, response, **kwargs):\n",
    "        \"\"\"Parse response and handle both full code and diffs\"\"\"\n",
    "        code = extract_code_from_string(response.text)\n",
    "\n",
    "        # Save the full response and extracted code\n",
    "        string_to_file(response.text, join_path(self.cfg.out_dir, self.OUT_RESULT_PATH))\n",
    "        string_to_file(code, join_path(self.cfg.out_dir, self.PYTHON_FILE_NAME))\n",
    "        \n",
    "        # Capture both stdout and execution results\n",
    "        with self.capture_output() as output:\n",
    "            success, error = self.execute_code(code)\n",
    "        \n",
    "        # Save stdout to output.txt\n",
    "        stdout_content = output.getvalue()\n",
    "        if stdout_content:\n",
    "            string_to_file(stdout_content, join_path(self.cfg.out_dir, \"stdout.txt\"))\n",
    "        \n",
    "        if not error:\n",
    "            print(\"\\nCode executed successfully!\")\n",
    "            # Display all artifacts in the working directory\n",
    "            # self.artifact_handler.display_artifacts(Path(self.working_dir))\n",
    "        else:\n",
    "            print(f\"Error executing code: {error}\")\n",
    "            # Save the error to stderr.txt\n",
    "            string_to_file(error, join_path(self.cfg.out_dir, \"stderr.txt\"))\n"
   ]
  },
  {
   "cell_type": "code",
   "execution_count": 10,
   "metadata": {},
   "outputs": [
    {
     "name": "stdout",
     "output_type": "stream",
     "text": [
      "\n",
      "Code executed successfully!\n"
     ]
    }
   ],
   "source": [
    "agent = ToolAgent(AgentConfig(\n",
    "    model_name=\"gemini-2.0-flash-thinking-exp-01-21\",\n",
    "    out_dir=\"test_tool_use_results\",\n",
    "    api_key=API_KEY\n",
    "))\n",
    "\n",
    "# Test simple math problem\n",
    "question = \"\"\"Calculate the square of numbers from 1 to 5. \n",
    "Plot the results and save both the data and plot.\"\"\"\n",
    "\n",
    "agent.generate_prediction(question);"
   ]
  },
  {
   "cell_type": "code",
   "execution_count": 11,
   "metadata": {},
   "outputs": [
    {
     "data": {
      "text/plain": [
       "PosixPath('test_tool_use_results/vlm_workspace')"
      ]
     },
     "execution_count": 11,
     "metadata": {},
     "output_type": "execute_result"
    }
   ],
   "source": [
    "agent.working_dir"
   ]
  },
  {
   "cell_type": "code",
   "execution_count": 12,
   "metadata": {},
   "outputs": [
    {
     "name": "stdout",
     "output_type": "stream",
     "text": [
      "ls: cannot access 'test_tool_use/vlm_workspace/images': No such file or directory\n"
     ]
    }
   ],
   "source": [
    "!ls test_tool_use/vlm_workspace/images"
   ]
  },
  {
   "cell_type": "code",
   "execution_count": 13,
   "metadata": {},
   "outputs": [
    {
     "data": {
      "text/plain": [
       "{'code': 'import matplotlib.pyplot as plt\\n\\n# Calculate squares\\nnumbers = list(range(1, 6))\\nsquares = [n**2 for n in numbers]\\n\\n# Create plot\\nplt.plot(numbers, squares)\\nplt.xlabel(\"Numbers\")\\nplt.ylabel(\"Squares\")\\nplt.title(\"Squares of Numbers from 1 to 5\")\\nplt.grid(True)\\n\\n# Save plot\\nsave_image(\"squares_plot\", plt.gcf())\\n\\n# Save data\\ndata = {\"numbers\": numbers, \"squares\": squares}\\nlog_data(\"squares_data\", data)',\n",
       " 'stdout': None,\n",
       " 'stderr': None,\n",
       " 'images': [{'name': 'squares_plot_20250224_191625.png',\n",
       "   'data': <PIL.PngImagePlugin.PngImageFile image mode=RGBA size=640x480>}],\n",
       " 'videos': [],\n",
       " 'logs': [{'name': 'squares_data_20250224_191625.json',\n",
       "   'data': {'numbers': [1, 2, 3, 4, 5], 'squares': [1, 4, 9, 16, 25]}}]}"
      ]
     },
     "execution_count": 13,
     "metadata": {},
     "output_type": "execute_result"
    }
   ],
   "source": [
    "context = ArtifactCollector(Path(agent.cfg.out_dir)).collect()\n",
    "## agent.add_context(context) ## for iterative refinement.\n",
    "context"
   ]
  },
  {
   "cell_type": "code",
   "execution_count": 14,
   "metadata": {},
   "outputs": [
    {
     "name": "stdout",
     "output_type": "stream",
     "text": [
      "\n",
      "=== Code ===\n",
      "\n",
      "📁 tool_use_agent.py\n",
      "\u001b[34mimport\u001b[39;49;00m\u001b[37m \u001b[39;49;00m\u001b[04m\u001b[36mmatplotlib\u001b[39;49;00m\u001b[04m\u001b[36m.\u001b[39;49;00m\u001b[04m\u001b[36mpyplot\u001b[39;49;00m\u001b[37m \u001b[39;49;00m\u001b[34mas\u001b[39;49;00m\u001b[37m \u001b[39;49;00m\u001b[04m\u001b[36mplt\u001b[39;49;00m\u001b[37m\u001b[39;49;00m\n",
      "\u001b[37m\u001b[39;49;00m\n",
      "\u001b[37m# Calculate squares\u001b[39;49;00m\u001b[37m\u001b[39;49;00m\n",
      "numbers = \u001b[36mlist\u001b[39;49;00m(\u001b[36mrange\u001b[39;49;00m(\u001b[34m1\u001b[39;49;00m, \u001b[34m6\u001b[39;49;00m))\u001b[37m\u001b[39;49;00m\n",
      "squares = [n**\u001b[34m2\u001b[39;49;00m \u001b[34mfor\u001b[39;49;00m n \u001b[35min\u001b[39;49;00m numbers]\u001b[37m\u001b[39;49;00m\n",
      "\u001b[37m\u001b[39;49;00m\n",
      "\u001b[37m# Create plot\u001b[39;49;00m\u001b[37m\u001b[39;49;00m\n",
      "plt.plot(numbers, squares)\u001b[37m\u001b[39;49;00m\n",
      "plt.xlabel(\u001b[33m\"\u001b[39;49;00m\u001b[33mNumbers\u001b[39;49;00m\u001b[33m\"\u001b[39;49;00m)\u001b[37m\u001b[39;49;00m\n",
      "plt.ylabel(\u001b[33m\"\u001b[39;49;00m\u001b[33mSquares\u001b[39;49;00m\u001b[33m\"\u001b[39;49;00m)\u001b[37m\u001b[39;49;00m\n",
      "plt.title(\u001b[33m\"\u001b[39;49;00m\u001b[33mSquares of Numbers from 1 to 5\u001b[39;49;00m\u001b[33m\"\u001b[39;49;00m)\u001b[37m\u001b[39;49;00m\n",
      "plt.grid(\u001b[34mTrue\u001b[39;49;00m)\u001b[37m\u001b[39;49;00m\n",
      "\u001b[37m\u001b[39;49;00m\n",
      "\u001b[37m# Save plot\u001b[39;49;00m\u001b[37m\u001b[39;49;00m\n",
      "save_image(\u001b[33m\"\u001b[39;49;00m\u001b[33msquares_plot\u001b[39;49;00m\u001b[33m\"\u001b[39;49;00m, plt.gcf())\u001b[37m\u001b[39;49;00m\n",
      "\u001b[37m\u001b[39;49;00m\n",
      "\u001b[37m# Save data\u001b[39;49;00m\u001b[37m\u001b[39;49;00m\n",
      "data = {\u001b[33m\"\u001b[39;49;00m\u001b[33mnumbers\u001b[39;49;00m\u001b[33m\"\u001b[39;49;00m: numbers, \u001b[33m\"\u001b[39;49;00m\u001b[33msquares\u001b[39;49;00m\u001b[33m\"\u001b[39;49;00m: squares}\u001b[37m\u001b[39;49;00m\n",
      "log_data(\u001b[33m\"\u001b[39;49;00m\u001b[33msquares_data\u001b[39;49;00m\u001b[33m\"\u001b[39;49;00m, data)\u001b[37m\u001b[39;49;00m\n",
      "\n",
      "\n",
      "=== Standard Output ===\n",
      "\n",
      "📁 stdout.txt\n",
      "\n",
      "=== Standard Error ===\n",
      "\n",
      "📁 stderr.txt\n",
      "\n",
      "=== Images ===\n",
      "\n",
      "=== Artifacts in images ===\n",
      "\n",
      "📁 squares_plot_20250224_191625.png\n"
     ]
    },
    {
     "data": {
      "image/png": "[encoded data removed]",
      "text/plain": [
       "<IPython.core.display.Image object>"
      ]
     },
     "metadata": {},
     "output_type": "display_data"
    },
    {
     "name": "stdout",
     "output_type": "stream",
     "text": [
      "\n",
      "=== Videos ===\n",
      "No artifacts found in test_tool_use_results/vlm_workspace/videos\n",
      "\n",
      "=== Logs ===\n",
      "\n",
      "=== Artifacts in logs ===\n",
      "\n",
      "📁 squares_data_20250224_191625.json\n",
      "{\n",
      "  \"numbers\": [\n",
      "    1,\n",
      "    2,\n",
      "    3,\n",
      "    4,\n",
      "    5\n",
      "  ],\n",
      "  \"squares\": [\n",
      "    1,\n",
      "    4,\n",
      "    9,\n",
      "    16,\n",
      "    25\n",
      "  ]\n",
      "}\n"
     ]
    }
   ],
   "source": [
    "ArtifactDisplayHandler(Path(agent.cfg.out_dir)).display_all()"
   ]
  }
 ],
 "metadata": {
  "kernelspec": {
   "display_name": "vlmx",
   "language": "python",
   "name": "python3"
  },
  "language_info": {
   "codemirror_mode": {
    "name": "ipython",
    "version": 3
   },
   "file_extension": ".py",
   "mimetype": "text/x-python",
   "name": "python",
   "nbconvert_exporter": "python",
   "pygments_lexer": "ipython3",
   "version": "3.9.21"
  }
 },
 "nbformat": 4,
 "nbformat_minor": 2
}
